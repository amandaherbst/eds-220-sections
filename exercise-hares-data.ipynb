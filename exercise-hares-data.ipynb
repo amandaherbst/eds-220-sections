{
 "cells": [
  {
   "cell_type": "markdown",
   "id": "3dde12b6-8e97-410a-8ba2-7c073e642537",
   "metadata": {},
   "source": [
    "# Data Cleaning\n",
    "\n",
    "## 9.1 Archive Exploration\n",
    "Data: Showshoe hare densities in northern boreal forests collected through capture-recapture studes from 1999 to 2002.\n",
    "\n",
    "Citation: Kielland, K., F.S. Chapin, R.W. Ruess, and Bonanza Creek LTER. 2017. Snowshoe hare physical data in Bonanza Creek Experimental Forest: 1999-Present ver 22. Environmental Data Initiative. https://doi.org/10.6073/pasta/03dce4856d79b91557d8e6ce2cbcdc14 (Accessed 2023-10-19).\n",
    "\n",
    "## 9.2 Adding an image\n",
    "\n",
    "![Snowshoe Hare](https://upload.wikimedia.org/wikipedia/commons/8/8a/SNOWSHOE_HARE_%28Lepus_americanus%29_%285-28-2015%29_quoddy_head%2C_washington_co%2C_maine_-01_%2818988734889%29.jpg)"
   ]
  }
 ],
 "metadata": {
  "kernelspec": {
   "display_name": "Anaconda 3 (Base)",
   "language": "python",
   "name": "base"
  },
  "language_info": {
   "codemirror_mode": {
    "name": "ipython",
    "version": 3
   },
   "file_extension": ".py",
   "mimetype": "text/x-python",
   "name": "python",
   "nbconvert_exporter": "python",
   "pygments_lexer": "ipython3",
   "version": "3.9.13"
  }
 },
 "nbformat": 4,
 "nbformat_minor": 5
}
